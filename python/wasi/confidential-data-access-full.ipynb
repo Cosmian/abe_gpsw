{
 "cells": [
  {
   "cell_type": "code",
   "execution_count": null,
   "metadata": {},
   "outputs": [],
   "source": [
    "from wasmtime import Linker, Module, Store, WasiConfig\n",
    "\n",
    "from bindings import Abe, Attribute, Ok, Policy, PolicyAxis\n",
    "\n",
    "\n",
    "store = Store()\n",
    "wasi_config = WasiConfig()\n",
    "wasi_config.inherit_stderr()\n",
    "wasi_config.inherit_stdin()\n",
    "wasi_config.inherit_stdout()\n",
    "store.set_wasi(wasi_config)\n",
    "\n",
    "linker = Linker(store.engine)\n",
    "linker.define_wasi()\n",
    "\n",
    "my_module = Module.from_file(store.engine, \"abe_gpsw.wasm\")\n",
    "abe = Abe(store, linker, my_module)\n",
    "\n",
    "\n",
    "def unwrap(wrapped_result):\n",
    "    \"\"\"\n",
    "    If the result is an Ok, return the value, otherwise raise an exception\n",
    "\n",
    "    :param wrapped_result: The result of a function that returns a wrapped\n",
    "    object\n",
    "    :return: A list of strings.\n",
    "    \"\"\"\n",
    "    if isinstance(wrapped_result, Ok):\n",
    "        return wrapped_result.value\n",
    "    raise Exception(wrapped_result.value)"
   ]
  },
  {
   "cell_type": "markdown",
   "metadata": {},
   "source": [
    "# Encryption using an Authorization Policy\n",
    "\n",
    "This notebook demonstrates how data can be encrypted with policy attributes. An user will only be able to decrypt data when it holds a key with the proper attributes.\n",
    "\n",
    "This notebook also demonstrates revocation of an attribute value and how to implement forward secrecy.\n",
    "\n"
   ]
  },
  {
   "cell_type": "markdown",
   "metadata": {},
   "source": [
    "## Policy\n",
    "\n",
    "In this demo, we will create an Policy which combines 2 axes, a 'security level' and a 'department'.\n",
    "\n",
    "An user will be able to decrypt data only if it possesses a key with a sufficient security level and the attribute for the department.\n"
   ]
  },
  {
   "cell_type": "markdown",
   "metadata": {},
   "source": [
    "## Policy Axes\n",
    "\n",
    "The Policy Group is defined by two Policy Axes, thus defining a 2 dimensional matrix of authorizations. An user must possess keys with attributes from these two axes to be able to decrypt files.\n",
    "\n",
    "### Security Level Axis\n",
    "The first Policy Axis is the 'Security Level' axis and is a hierarchical axis made of 5 levels: `level_1`, `level_2`, ..., `level_5`. It is hierarchical: an user being granted access to level `n` is automatically granted access to all levels below `n`.\n",
    "\n",
    "### Department Security Axis\n",
    "\n",
    "The second Policy Axis is the `Department` axis and is made of 4 values: `RnD`, `HR`, `MKG`, `FIN`. This axis i *not* hierarchical: granting access to an attribute of this axis to a user does not give access to any other attribute. Each attribute must be granted individually.\n"
   ]
  },
  {
   "cell_type": "code",
   "execution_count": null,
   "metadata": {},
   "outputs": [],
   "source": [
    "entities_axis = PolicyAxis(\n",
    "    name=\"Departments\", \n",
    "    attributes=[\"RnD\", \"HR\", \"MKG\", \"FIN\"],\n",
    "    hierarchical=False\n",
    ")\n",
    "security_axis = PolicyAxis(\n",
    "    name=\"Security_Level\",\n",
    "    attributes=[\"level_1\", \"level_2\", \"level_3\", \"level_4\", \"level_5\"],\n",
    "    hierarchical=True,\n",
    ")\n",
    "policy_definition = Policy(\n",
    "    primary_axis=entities_axis, secondary_axis=security_axis\n",
    ")"
   ]
  },
  {
   "cell_type": "markdown",
   "metadata": {},
   "source": [
    "\n",
    "## Master Authority\n",
    "\n",
    "The Master Authority possesses the keys for the given Policy Group:\n",
    "\n",
    " - a Secret Key which is used to delegate authority to \"delegate authorities\", which are the ones generating user keys\n",
    " - and a Public key which is used to encrypt files with proper level of security.\n",
    "\n",
    "The second parameter fixes the maximum number of revocations of attributes (see below) for this Policy.\n",
    "This number influences the number of public keys which will be ultimately generated for this Security Group and must be kept to a \"reasonable\" level to reduce security risks associated with multiplying the number of keys."
   ]
  },
  {
   "cell_type": "code",
   "execution_count": null,
   "metadata": {},
   "outputs": [],
   "source": [
    "master_key = abe.generate_master_key(store, 100, policy_definition)\n",
    "master_key = unwrap(master_key)"
   ]
  },
  {
   "cell_type": "markdown",
   "metadata": {},
   "source": [
    "## Delegate Authorities\n",
    "\n",
    "The Master Authority will delegate part or all of its authority to \"Delegate Authorities\" (a.k.a Delegates) which are the ones generating user keys.\n",
    "\n",
    "In this particular example, the Master Authority wil delegate its authority to 2 Delegates:\n",
    "\n",
    " - a Super Delegate which can issue User Keys for all Security Levels and all Departments\n",
    " - a \"Level 4 Marketing and Finance Delegate\" which can only generate User Keys for marketing (MKG) and finance (FIN) data of Security Level 4 and below."
   ]
  },
  {
   "cell_type": "code",
   "execution_count": null,
   "metadata": {
    "tags": []
   },
   "outputs": [],
   "source": [
    "super_delegate = abe.generate_user_decryption_key(\n",
    "    store,\n",
    "    master_private_key=master_key.private_key,\n",
    "    access_policy=None,  # without further specification, all attributes are delegated\n",
    "    policy=master_key.policy_serialized,\n",
    ")\n",
    "super_delegate = unwrap(super_delegate)\n",
    "\n",
    "level_4_mkg_fin_delegate = abe.generate_user_decryption_key(\n",
    "    store,\n",
    "    master_private_key=master_key.private_key,\n",
    "    access_policy=\"(Departments::FIN || Departments::MKG) && Security_Level::level_4\",\n",
    "    policy=master_key.policy_serialized,\n",
    ")\n",
    "level_4_mkg_fin_delegate = unwrap(level_4_mkg_fin_delegate)\n"
   ]
  },
  {
   "cell_type": "markdown",
   "metadata": {},
   "source": [
    "## User Keys\n",
    "\n",
    "Delegate Authorities can now generate User Keys up to the level allowed by their policy. \n",
    "\n",
    "A marketing user with level 3 security can have its key generated by any of the Delegates."
   ]
  },
  {
   "cell_type": "code",
   "execution_count": null,
   "metadata": {
    "tags": []
   },
   "outputs": [],
   "source": [
    "level_3_mkg_user = abe.delegate_user_decryption_key(\n",
    "    store,\n",
    "    delegation_key=master_key.delegation_key,\n",
    "    user_decryption_key=super_delegate,\n",
    "    policy=master_key.policy_serialized,\n",
    "    access_policy=\"Departments::MKG && Security_Level::level_3\",\n",
    ")\n",
    "level_3_mkg_user = unwrap(level_3_mkg_user)\n",
    "\n",
    "level_3_mkg_user = abe.delegate_user_decryption_key(\n",
    "    store,\n",
    "    delegation_key=master_key.delegation_key,\n",
    "    user_decryption_key=level_4_mkg_fin_delegate,\n",
    "    policy=master_key.policy_serialized,\n",
    "    access_policy=\"Departments::MKG && Security_Level::level_3\",\n",
    ")\n",
    "level_3_mkg_user = unwrap(level_3_mkg_user)\n"
   ]
  },
  {
   "cell_type": "markdown",
   "metadata": {},
   "source": [
    "However, a Delegate cannot generate user keys for which it does not have the authority\n"
   ]
  },
  {
   "cell_type": "code",
   "execution_count": null,
   "metadata": {
    "tags": []
   },
   "outputs": [],
   "source": [
    "try:\n",
    "    level_5_user = abe.delegate_user_decryption_key(\n",
    "        store,\n",
    "        delegation_key=master_key.delegation_key,\n",
    "        user_decryption_key=level_4_mkg_fin_delegate,\n",
    "        policy=master_key.policy_serialized,\n",
    "        access_policy=\"Departments::MKG && Security_Level::level_5\",\n",
    "    )\n",
    "    level_5_user = unwrap(level_5_user)\n",
    "except Exception as err:\n",
    "    print(\n",
    "        \"FAILURE: as expected the level 4 marketing authority cannot generate user keys for Security Level 5\"\n",
    "    )\n"
   ]
  },
  {
   "cell_type": "code",
   "execution_count": null,
   "metadata": {
    "tags": []
   },
   "outputs": [],
   "source": [
    "try:\n",
    "    HR_user = abe.delegate_user_decryption_key(\n",
    "        store,\n",
    "        delegation_key=master_key.delegation_key,\n",
    "        user_decryption_key=level_4_mkg_fin_delegate,\n",
    "        policy=master_key.policy_serialized,\n",
    "        access_policy=\"Departments::HR && Security_Level::level_3\"\n",
    "    )\n",
    "    HR_user = unwrap(HR_user)\n",
    "except:\n",
    "    print(\n",
    "        \"FAILURE: as expected the level 4 marketing authority cannot generate user keys for Department HR\"\n",
    "    )\n"
   ]
  },
  {
   "cell_type": "markdown",
   "metadata": {},
   "source": [
    "Let us create a super user as well, which can decrypt everything"
   ]
  },
  {
   "cell_type": "code",
   "execution_count": null,
   "metadata": {},
   "outputs": [],
   "source": [
    "super_user = abe.delegate_user_decryption_key(\n",
    "    store,\n",
    "    delegation_key=master_key.delegation_key,\n",
    "    user_decryption_key=super_delegate,\n",
    "    policy=master_key.policy_serialized,\n",
    "    access_policy=None,  # no specification of attributes => all attributes\n",
    ")\n",
    "super_user = unwrap(super_user)\n"
   ]
  },
  {
   "cell_type": "markdown",
   "metadata": {},
   "source": [
    "## Encryption and Decryption\n",
    "\n",
    "Data is encrypted using the Master Authority Public Key with two attributes: one for the Security Level and one for the Department. Anyone - who has access to the Public Key - can encrypt data with any attribute combination. However, only users posessing user keys with the right combination of attributes can decrypt data.\n",
    "\n",
    "### Real World File System: Hybrid Encryption\n",
    "\n",
    "In a real world encrypted File System, to maximize speed and minimize space, a hybrid encryption scheme is used:\n",
    " - the content of the file is encrypted using an AES key (a different key per file)\n",
    " - the AES key is encrypted using the public key scheme\n"
   ]
  },
  {
   "cell_type": "markdown",
   "metadata": {},
   "source": [
    "### A level 2 marketing message\n",
    "Let us create an encrypted marketing message with a security level 2. "
   ]
  },
  {
   "cell_type": "code",
   "execution_count": null,
   "metadata": {},
   "outputs": [],
   "source": [
    "mkg_level_2_msg = abe.encrypt(\n",
    "    store,\n",
    "    plaintext=\"Marketing message level 2\",\n",
    "    master_public_key=master_key.public_key,\n",
    "    attributes=[\n",
    "        Attribute(\"Departments\", \"MKG\"),\n",
    "        Attribute(\"Security_Level\", \"level_2\"),\n",
    "    ],\n",
    "    policy=master_key.policy_serialized,\n",
    "    uid=bytes([1, 2, 3, 4, 5, 6, 7, 8])\n",
    ")\n",
    "mkg_level_2_msg = unwrap(mkg_level_2_msg)\n"
   ]
  },
  {
   "cell_type": "markdown",
   "metadata": {},
   "source": [
    "Both are users are able to decrypt the message"
   ]
  },
  {
   "cell_type": "code",
   "execution_count": null,
   "metadata": {
    "tags": []
   },
   "outputs": [],
   "source": [
    "result = abe.decrypt(store, user_decryption_key=level_3_mkg_user, encrypted_data=mkg_level_2_msg).value\n",
    "print(\"Marketing level 3 User succeeds: '%s'\" % result)\n",
    "result = abe.decrypt(store, user_decryption_key=super_user, encrypted_data=mkg_level_2_msg).value\n",
    "print(\"Super User succeeds            : '%s'\" % result)\n"
   ]
  },
  {
   "cell_type": "markdown",
   "metadata": {},
   "source": [
    "### A level 5 marketing message\n",
    "However in the case of a level 5 marketing message, only the super user will succeed:"
   ]
  },
  {
   "cell_type": "code",
   "execution_count": null,
   "metadata": {
    "tags": []
   },
   "outputs": [],
   "source": [
    "mkg_level_5_msg = abe.encrypt(\n",
    "    store,\n",
    "    plaintext=\"Marketing message level 5\",\n",
    "    master_public_key=master_key.public_key,\n",
    "    attributes=[\n",
    "        Attribute(\"Departments\", \"MKG\"),\n",
    "        Attribute(\"Security_Level\", \"level_5\"),\n",
    "    ],\n",
    "    policy=master_key.policy_serialized,\n",
    "    uid=bytes([1, 2, 3, 4, 5, 6, 7, 8])\n",
    ")\n",
    "mkg_level_5_msg = unwrap(mkg_level_5_msg)\n",
    "\n",
    "try:\n",
    "    result = abe.decrypt(store, user_decryption_key=level_3_mkg_user, encrypted_data=mkg_level_5_msg)\n",
    "    result = unwrap(result)\n",
    "except:\n",
    "    print(\"As expected, Marketing level 3 User FAILS decrypting\")\n",
    "\n",
    "result = abe.decrypt(store, user_decryption_key=super_user, encrypted_data=mkg_level_5_msg).value\n",
    "print(\"Super User succeeds         : '%s'\" % result)\n"
   ]
  },
  {
   "cell_type": "markdown",
   "metadata": {},
   "source": [
    "### A level 2 HR message\n",
    "Likewise, in the case of a level 2 HR message, only the super user will succeed:"
   ]
  },
  {
   "cell_type": "code",
   "execution_count": null,
   "metadata": {
    "tags": []
   },
   "outputs": [],
   "source": [
    "hr_level_2_msg = abe.encrypt(\n",
    "    store,\n",
    "    plaintext=\"HR message level 2\",\n",
    "    master_public_key=master_key.public_key,\n",
    "    attributes=[\n",
    "        Attribute(\"Departments\", \"HR\"),\n",
    "        Attribute(\"Security_Level\", \"level_2\"),\n",
    "    ],\n",
    "    policy=master_key.policy_serialized,\n",
    "    uid=bytes([1, 2, 3, 4, 5, 6, 7, 8])\n",
    ")\n",
    "hr_level_2_msg = unwrap(hr_level_2_msg)\n",
    "\n",
    "try:\n",
    "    result = abe.decrypt(store, user_decryption_key=level_3_mkg_user, encrypted_data=hr_level_2_msg)\n",
    "    result = unwrap(result)\n",
    "except:\n",
    "    print(\"As expected, Marketing level 3 User FAILS decrypting\")\n",
    "\n",
    "result = abe.decrypt(store, user_decryption_key=super_user, encrypted_data=hr_level_2_msg).value\n",
    "print(\"Super User succeeds         : '%s'\" % result)\n"
   ]
  },
  {
   "cell_type": "markdown",
   "metadata": {},
   "source": [
    "# Revocation\n",
    "\n",
    "At anytime the Master Authority can revoke an attribute. When that happens future encryption of data for a given attribute cannot be decrypted with keys which are not \"refreshed\" for that attribute.\n",
    "\n",
    "Let us revoke the Security Level 2"
   ]
  },
  {
   "cell_type": "code",
   "execution_count": null,
   "metadata": {},
   "outputs": [],
   "source": [
    "updated_policy = abe.rotate_attributes(\n",
    "    store,\n",
    "    policy=master_key.policy_serialized,\n",
    "    attributes=[\n",
    "        Attribute(\"Security_Level\", \"level_2\"),\n",
    "    ],\n",
    ")\n",
    "print(updated_policy)\n",
    "updated_policy = unwrap(updated_policy)\n"
   ]
  },
  {
   "cell_type": "markdown",
   "metadata": {},
   "source": [
    "We now encrypt a new marketing message at level 2\n"
   ]
  },
  {
   "cell_type": "code",
   "execution_count": null,
   "metadata": {},
   "outputs": [],
   "source": [
    "new_mkg_level_2_msg = abe.encrypt(\n",
    "    store,\n",
    "    plaintext=\"New marketing message level 2\",\n",
    "    master_public_key=master_key.public_key,\n",
    "    attributes=[\n",
    "        Attribute(\"Departments\", \"MKG\"),\n",
    "        Attribute(\"Security_Level\", \"level_2\"),\n",
    "    ],\n",
    "    policy=updated_policy,\n",
    "    uid=bytes([1, 2, 3, 4, 5, 6, 7, 8])\n",
    ")\n",
    "new_mkg_level_2_msg = unwrap(new_mkg_level_2_msg)\n"
   ]
  },
  {
   "cell_type": "markdown",
   "metadata": {},
   "source": [
    "No user, except the super user, can decrypt the message until its key is refreshed"
   ]
  },
  {
   "cell_type": "code",
   "execution_count": null,
   "metadata": {
    "tags": []
   },
   "outputs": [],
   "source": [
    "try:\n",
    "    result = abe.decrypt(store, user_decryption_key=level_3_mkg_user, encrypted_data=new_mkg_level_2_msg)\n",
    "    result = unwrap(result)\n",
    "except:\n",
    "    print(\"As expected, Marketing level 3 User FAILS decrypting\")\n",
    "\n",
    "result = abe.decrypt(store, user_decryption_key=super_user, encrypted_data=new_mkg_level_2_msg).value  ## try with fin_delegate\n",
    "print(\"Super User succeeds         : '%s'\" % result)\n"
   ]
  },
  {
   "cell_type": "markdown",
   "metadata": {},
   "source": [
    "All keys need to be refresh: Delegates and Users"
   ]
  },
  {
   "cell_type": "code",
   "execution_count": null,
   "metadata": {
    "tags": []
   },
   "outputs": [],
   "source": [
    "# Delegates\n",
    "level_4_mkg_fin_delegate = abe.generate_user_decryption_key(\n",
    "    store,\n",
    "    master_private_key=master_key.private_key,\n",
    "    access_policy=\"(Departments::FIN || Departments::MKG) && Security_Level::level_4\",\n",
    "    policy=updated_policy,\n",
    ")\n",
    "level_4_mkg_fin_delegate = unwrap(level_4_mkg_fin_delegate)\n",
    "\n",
    "# Users\n",
    "level_3_mkg_user = abe.delegate_user_decryption_key(\n",
    "    store,\n",
    "    delegation_key=master_key.delegation_key,\n",
    "    user_decryption_key=level_4_mkg_fin_delegate,\n",
    "    policy=updated_policy,\n",
    "    access_policy=\"Departments::MKG && Security_Level::level_3\"\n",
    ")\n",
    "level_3_mkg_user = unwrap(level_3_mkg_user)\n"
   ]
  },
  {
   "cell_type": "markdown",
   "metadata": {},
   "source": [
    "New messages can now be decrypted"
   ]
  },
  {
   "cell_type": "code",
   "execution_count": null,
   "metadata": {
    "tags": []
   },
   "outputs": [],
   "source": [
    "result = abe.decrypt(store, level_3_mkg_user, new_mkg_level_2_msg).value\n",
    "print(\"Marketing level 3 User SUCCEEDS decrypting: '%s'\" % result)\n",
    "\n",
    "result = abe.decrypt(store, super_user, new_mkg_level_2_msg).value\n",
    "print(\"Super User succeeds         : '%s'\" % result)\n"
   ]
  },
  {
   "cell_type": "markdown",
   "metadata": {},
   "source": [
    "Older messages can still be decrypted as well"
   ]
  },
  {
   "cell_type": "code",
   "execution_count": null,
   "metadata": {
    "tags": []
   },
   "outputs": [],
   "source": [
    "result = abe.decrypt(store, user_decryption_key=level_3_mkg_user, encrypted_data=mkg_level_2_msg).value\n",
    "print(\"Marketing level 3 User SUCCEEDS decrypting: '%s'\" % result)\n",
    "\n",
    "result = abe.decrypt(store, user_decryption_key=super_user, encrypted_data=mkg_level_2_msg).value\n",
    "print(\"Super User succeeds         : '%s'\" % result)\n"
   ]
  }
 ],
 "metadata": {
  "kernelspec": {
   "display_name": "Python 3 (ipykernel)",
   "language": "python",
   "name": "python3"
  },
  "language_info": {
   "codemirror_mode": {
    "name": "ipython",
    "version": 3
   },
   "file_extension": ".py",
   "mimetype": "text/x-python",
   "name": "python",
   "nbconvert_exporter": "python",
   "pygments_lexer": "ipython3",
   "version": "3.9.7"
  }
 },
 "nbformat": 4,
 "nbformat_minor": 2
}
